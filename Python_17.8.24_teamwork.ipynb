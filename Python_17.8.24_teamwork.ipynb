{
  "nbformat": 4,
  "nbformat_minor": 0,
  "metadata": {
    "colab": {
      "provenance": [],
      "authorship_tag": "ABX9TyO7eQCVXc/LMQBmI7Kwjr9a",
      "include_colab_link": true
    },
    "kernelspec": {
      "name": "python3",
      "display_name": "Python 3"
    },
    "language_info": {
      "name": "python"
    }
  },
  "cells": [
    {
      "cell_type": "markdown",
      "metadata": {
        "id": "view-in-github",
        "colab_type": "text"
      },
      "source": [
        "<a href=\"https://colab.research.google.com/github/eninadi/Team-34/blob/main/Python_17.8.24_teamwork.ipynb\" target=\"_parent\"><img src=\"https://colab.research.google.com/assets/colab-badge.svg\" alt=\"Open In Colab\"/></a>"
      ]
    },
    {
      "cell_type": "code",
      "execution_count": 1,
      "metadata": {
        "id": "rZKvLpmwN_Wo"
      },
      "outputs": [],
      "source": [
        "# exaple code\n",
        "\n",
        "import pandas as pd\n",
        "import matplotlib.pyplot as plt\n",
        "pokemon_df = pd.read_csv('/content/Pokemon.csv')"
      ]
    },
    {
      "cell_type": "code",
      "source": [
        "# 1. how many Pokémons are with 'Type 1' == Water as a % of total?\n",
        "\n",
        "total_pokemons = len(pokemon_df)\n",
        "water_pokemons = len(pokemon_df[pokemon_df['Type 1'] == 'Water'])\n",
        "water_pokemon_percentage = (water_pokemons / total_pokemons) * 100\n",
        "print(f'Percentage of Water Type 1 Pokemons: {water_pokemon_percentage:.2f}%')"
      ],
      "metadata": {
        "id": "2OuGv_-VOJID",
        "colab": {
          "base_uri": "https://localhost:8080/"
        },
        "outputId": "cd5f9a54-c14c-4334-b329-5bd61e95da8f"
      },
      "execution_count": 2,
      "outputs": [
        {
          "output_type": "stream",
          "name": "stdout",
          "text": [
            "Percentage of Water Type 1 Pokemons: 14.00%\n"
          ]
        }
      ]
    },
    {
      "cell_type": "code",
      "source": [
        "# new entry\n",
        "\n",
        "\n",
        "# 2. what is the maximum 'Speed' value? what is the minimum 'Speed' value? what is the difference between max and min 'Speed'?\n",
        "\n",
        "max_speed = pokemon_df['Speed'].max()\n",
        "min_speed = pokemon_df['Speed'].min()\n",
        "speed_difference = max_speed - min_speed\n",
        "print(f'Maximum Speed: {max_speed}')\n",
        "print(f'Minimum Speed: {min_speed}')\n",
        "print(f'Difference between max and min Speed: {speed_difference}')"
      ],
      "metadata": {
        "id": "5_svhURYOJPx",
        "colab": {
          "base_uri": "https://localhost:8080/"
        },
        "outputId": "c8378cd7-91d7-46b7-f214-a2bea6d5dc71"
      },
      "execution_count": 3,
      "outputs": [
        {
          "output_type": "stream",
          "name": "stdout",
          "text": [
            "Maximum Speed: 180\n",
            "Minimum Speed: 5\n",
            "Difference between max and min Speed: 175\n"
          ]
        }
      ]
    },
    {
      "cell_type": "code",
      "source": [],
      "metadata": {
        "id": "GKgIk953OJSl"
      },
      "execution_count": null,
      "outputs": []
    },
    {
      "cell_type": "code",
      "source": [],
      "metadata": {
        "id": "en-J3I4ROJlM"
      },
      "execution_count": null,
      "outputs": []
    }
  ]
}