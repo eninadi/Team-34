{
  "nbformat": 4,
  "nbformat_minor": 0,
  "metadata": {
    "colab": {
      "provenance": [],
      "authorship_tag": "ABX9TyOhFS+P5vHFX2rcvfwz+ofQ",
      "include_colab_link": true
    },
    "kernelspec": {
      "name": "python3",
      "display_name": "Python 3"
    },
    "language_info": {
      "name": "python"
    }
  },
  "cells": [
    {
      "cell_type": "markdown",
      "metadata": {
        "id": "view-in-github",
        "colab_type": "text"
      },
      "source": [
        "<a href=\"https://colab.research.google.com/github/eninadi/Team-34/blob/main/Python_17.8.24_teamwork.ipynb\" target=\"_parent\"><img src=\"https://colab.research.google.com/assets/colab-badge.svg\" alt=\"Open In Colab\"/></a>"
      ]
    },
    {
      "cell_type": "code",
      "execution_count": 1,
      "metadata": {
        "id": "rZKvLpmwN_Wo"
      },
      "outputs": [],
      "source": [
        "# exaple code\n",
        "\n",
        "import pandas as pd\n",
        "import matplotlib.pyplot as plt\n",
        "pokemon_df = pd.read_csv('/content/Pokemon.csv')"
      ]
    },
    {
      "cell_type": "code",
      "source": [
        "# 1. how many Pokémons are with 'Type 1' == Water as a % of total?\n",
        "\n",
        "total_pokemons = len(pokemon_df)\n",
        "water_pokemons = len(pokemon_df[pokemon_df['Type 1'] == 'Water'])\n",
        "water_pokemon_percentage = (water_pokemons / total_pokemons) * 100\n",
        "print(f'Percentage of Water Type 1 Pokemons: {water_pokemon_percentage:.2f}%')"
      ],
      "metadata": {
        "id": "2OuGv_-VOJID",
        "outputId": "cd5f9a54-c14c-4334-b329-5bd61e95da8f",
        "colab": {
          "base_uri": "https://localhost:8080/"
        }
      },
      "execution_count": 2,
      "outputs": [
        {
          "output_type": "stream",
          "name": "stdout",
          "text": [
            "Percentage of Water Type 1 Pokemons: 14.00%\n"
          ]
        }
      ]
    },
    {
      "cell_type": "code",
      "source": [],
      "metadata": {
        "id": "5_svhURYOJPx"
      },
      "execution_count": null,
      "outputs": []
    },
    {
      "cell_type": "code",
      "source": [],
      "metadata": {
        "id": "GKgIk953OJSl"
      },
      "execution_count": null,
      "outputs": []
    },
    {
      "cell_type": "code",
      "source": [],
      "metadata": {
        "id": "en-J3I4ROJlM"
      },
      "execution_count": null,
      "outputs": []
    }
  ]
}